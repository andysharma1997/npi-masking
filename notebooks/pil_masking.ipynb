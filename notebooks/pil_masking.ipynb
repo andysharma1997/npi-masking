{
 "cells": [
  {
   "cell_type": "code",
   "execution_count": 71,
   "id": "6e9803f8-f575-4bda-a7b9-95777f5f7a4b",
   "metadata": {},
   "outputs": [
    {
     "name": "stdout",
     "output_type": "stream",
     "text": [
      "/home/shubham/venv/bin/python\n"
     ]
    }
   ],
   "source": [
    "!which python"
   ]
  },
  {
   "cell_type": "code",
   "execution_count": 18,
   "id": "05def79f-ad16-4dce-9a0a-e132ad5a48c2",
   "metadata": {},
   "outputs": [],
   "source": [
    "# from transformers import AutoTokenizer, AutoModelForTokenClassification, pipeline\n",
    "# import torch\n",
    "from typing import List\n",
    "import re\n",
    "from presidio_anonymizer import AnonymizerEngine\n",
    "from presidio_anonymizer.entities import RecognizerResult, OperatorConfig\n",
    "\n",
    "from presidio_analyzer import AnalyzerEngine, PatternRecognizer, EntityRecognizer, Pattern, RecognizerResult\n",
    "from presidio_analyzer.recognizer_registry import RecognizerRegistry\n",
    "from presidio_analyzer.nlp_engine import NlpEngine, SpacyNlpEngine, NlpArtifacts\n",
    "from presidio_analyzer.context_aware_enhancers import LemmaContextAwareEnhancer"
   ]
  },
  {
   "cell_type": "code",
   "execution_count": 3,
   "id": "43626f31-a414-4eec-95a9-1044cd937e1f",
   "metadata": {},
   "outputs": [],
   "source": [
    "titles_list = [\"Sir\", \"Ma'am\", \"Madam\", \"Mr.\", \"Mrs.\", \"Ms.\", \"Miss\", \"Dr.\", \"Professor\"]"
   ]
  },
  {
   "cell_type": "code",
   "execution_count": 58,
   "id": "163b5c40-9051-4c6d-b098-60337ae7cc34",
   "metadata": {},
   "outputs": [],
   "source": [
    "\n",
    "adhar_pattern = Pattern(name=\"adhar_pattern\",regex=\"\\d{12}\", score = 0.9)\n",
    "adhar_recognizer = PatternRecognizer(supported_entity=\"ADHAR\", patterns = [adhar_pattern])\n",
    "titles_recognizer = PatternRecognizer(supported_entity=\"TITLE\", deny_list=titles_list)"
   ]
  },
  {
   "cell_type": "code",
   "execution_count": 61,
   "id": "0accf23f-fd57-4c0c-951d-25e0e1b1906f",
   "metadata": {},
   "outputs": [],
   "source": [
    "class NumbersRecognizer(EntityRecognizer):\n",
    "    \n",
    "    expected_confidence_level = 0.7 # expected confidence level for this recognizer\n",
    "    \n",
    "    def load(self) -> None:\n",
    "        \"\"\"No loading is required.\"\"\"\n",
    "        pass\n",
    "\n",
    "    def analyze(\n",
    "        self, text: str, entities: List[str], nlp_artifacts: NlpArtifacts\n",
    "    ) -> List[RecognizerResult]:\n",
    "        \"\"\"\n",
    "        Analyzes test to find tokens which represent numbers (either 123 or One Two Three).\n",
    "        \"\"\"\n",
    "        results = []\n",
    "        \n",
    "        # iterate over the spaCy tokens, and call `token.like_num`\n",
    "        for token in nlp_artifacts.tokens:\n",
    "            if token.like_num:\n",
    "                result = RecognizerResult(\n",
    "                    entity_type=\"NUMBER\",\n",
    "                    start=token.idx,\n",
    "                    end=token.idx + len(token),\n",
    "                    score=self.expected_confidence_level\n",
    "                )\n",
    "                results.append(result)\n",
    "        return results"
   ]
  },
  {
   "cell_type": "code",
   "execution_count": 62,
   "id": "105f84fd-4e35-4885-911f-a9168e3e690b",
   "metadata": {},
   "outputs": [],
   "source": [
    "new_numbers_recognizer = NumbersRecognizer(supported_entities=[\"NUMBER\"])\n"
   ]
  },
  {
   "cell_type": "code",
   "execution_count": 63,
   "id": "b446713c-3bf1-4af4-85c3-6412ddcd8600",
   "metadata": {},
   "outputs": [],
   "source": [
    "analyzer = AnalyzerEngine()\n",
    "anonymizer = AnonymizerEngine()"
   ]
  },
  {
   "cell_type": "code",
   "execution_count": 64,
   "id": "43c858e6-a320-4c12-ab38-0a478fb7d8ad",
   "metadata": {},
   "outputs": [],
   "source": [
    "analyzer.registry.add_recognizer(new_numbers_recognizer)\n",
    "analyzer.registry.add_recognizer(adhar_recognizer)\n",
    "analyzer.registry.add_recognizer(titles_recognizer)"
   ]
  },
  {
   "cell_type": "code",
   "execution_count": 74,
   "id": "83ba882c-f53e-499d-9f3b-fdef143ac94e",
   "metadata": {},
   "outputs": [],
   "source": [
    "x = [\"a\",\"b\",\"c\"]"
   ]
  },
  {
   "cell_type": "code",
   "execution_count": 75,
   "id": "bde4def7-ec15-4364-aa00-61b36e191dde",
   "metadata": {},
   "outputs": [
    {
     "data": {
      "text/plain": [
       "['a', 'b', 'c']"
      ]
     },
     "execution_count": 75,
     "metadata": {},
     "output_type": "execute_result"
    }
   ],
   "source": [
    "x"
   ]
  },
  {
   "cell_type": "code",
   "execution_count": 79,
   "id": "62e746de-e217-49ba-9d3d-5e302279a1b0",
   "metadata": {},
   "outputs": [],
   "source": [
    "x.remove(\"b\")"
   ]
  },
  {
   "cell_type": "code",
   "execution_count": 80,
   "id": "81832bb9-467d-4174-9140-d0c458f618c8",
   "metadata": {},
   "outputs": [
    {
     "data": {
      "text/plain": [
       "['a']"
      ]
     },
     "execution_count": 80,
     "metadata": {},
     "output_type": "execute_result"
    }
   ],
   "source": [
    "x"
   ]
  },
  {
   "cell_type": "code",
   "execution_count": 73,
   "id": "3dfd6d7f-af5b-4341-84d3-488e2f5de2f2",
   "metadata": {},
   "outputs": [
    {
     "name": "stdout",
     "output_type": "stream",
     "text": [
      "['PERSON', 'CREDIT_CARD', 'EMAIL_ADDRESS', 'IP_ADDRESS', 'PHONE_NUMBER', 'CREDIT_CARD', 'CRYPTO', 'LOCATION', 'NUMBER', 'ADHAR', 'TITLE']\n"
     ]
    }
   ],
   "source": [
    "print([\n",
    "    'PERSON',\n",
    "    'CREDIT_CARD',\n",
    "    'EMAIL_ADDRESS',\n",
    "    'IP_ADDRESS',\n",
    "    'PHONE_NUMBER',\n",
    "    'CREDIT_CARD',\n",
    "    'CRYPTO',\n",
    "#     'DATE_TIME',\n",
    "#     'NRP',\n",
    "    'LOCATION',\n",
    "    \"NUMBER\",\n",
    "    \"ADHAR\",\n",
    "    \"TITLE\"\n",
    "#     'URL'\n",
    "])"
   ]
  },
  {
   "cell_type": "code",
   "execution_count": 65,
   "id": "0cb1633a-16aa-467f-b044-c93b2bb2797a",
   "metadata": {},
   "outputs": [],
   "source": [
    "ENT_TYPES = [\n",
    "    'PERSON',\n",
    "    'CREDIT_CARD',\n",
    "    'EMAIL_ADDRESS',\n",
    "    'IP_ADDRESS',\n",
    "    'PHONE_NUMBER',\n",
    "    'CREDIT_CARD',\n",
    "    'CRYPTO',\n",
    "#     'DATE_TIME',\n",
    "#     'NRP',\n",
    "    'LOCATION',\n",
    "    \"NUMBER\",\n",
    "    \"ADHAR\",\n",
    "    \"TITLE\"\n",
    "#     'URL'\n",
    "]"
   ]
  },
  {
   "cell_type": "code",
   "execution_count": 66,
   "id": "37b28d3b-32e7-4fb2-a28e-11fded540d88",
   "metadata": {},
   "outputs": [],
   "source": [
    "sentence = \"hello my name is Mr. andy, i am calling from whitehat. My number is 8050043862, and live in bangalore indranagar,email_id andybubbi@tmail.com,adhar number 999999990019, one nine nine one two\""
   ]
  },
  {
   "cell_type": "code",
   "execution_count": 68,
   "id": "7315c9a3-12ba-4234-9f34-3ac647757606",
   "metadata": {},
   "outputs": [
    {
     "data": {
      "text/plain": [
       "[type: TITLE, start: 17, end: 20, score: 1.0,\n",
       " type: EMAIL_ADDRESS, start: 122, end: 141, score: 1.0,\n",
       " type: ADHAR, start: 155, end: 167, score: 0.9,\n",
       " type: PERSON, start: 21, end: 25, score: 0.85,\n",
       " type: LOCATION, start: 92, end: 112, score: 0.85,\n",
       " type: PHONE_NUMBER, start: 68, end: 78, score: 0.75,\n",
       " type: NUMBER, start: 68, end: 78, score: 0.7,\n",
       " type: NUMBER, start: 155, end: 167, score: 0.7,\n",
       " type: NUMBER, start: 169, end: 172, score: 0.7,\n",
       " type: NUMBER, start: 173, end: 177, score: 0.7,\n",
       " type: NUMBER, start: 178, end: 182, score: 0.7,\n",
       " type: NUMBER, start: 183, end: 186, score: 0.7,\n",
       " type: NUMBER, start: 187, end: 190, score: 0.7]"
      ]
     },
     "execution_count": 68,
     "metadata": {},
     "output_type": "execute_result"
    }
   ],
   "source": [
    "analyzer.analyze(sentence, language='en', entities=ENT_TYPES)"
   ]
  },
  {
   "cell_type": "code",
   "execution_count": 69,
   "id": "09c900f0-65aa-442e-afc6-b93ab5a85981",
   "metadata": {},
   "outputs": [],
   "source": [
    "ents = analyzer.analyze(sentence, language='en', entities=ENT_TYPES)\n",
    "results = anonymizer.anonymize(sentence, analyzer_results=ents)"
   ]
  },
  {
   "cell_type": "code",
   "execution_count": 70,
   "id": "1e6c5b76-efbb-4d74-bda7-9dd50ef68136",
   "metadata": {},
   "outputs": [
    {
     "data": {
      "text/plain": [
       "'hello my name is <TITLE> <PERSON>, i am calling from whitehat. My number is <PHONE_NUMBER>, and live in <LOCATION>,email_id <EMAIL_ADDRESS>,adhar number <ADHAR>, <NUMBER> <NUMBER> <NUMBER> <NUMBER> <NUMBER>'"
      ]
     },
     "execution_count": 70,
     "metadata": {},
     "output_type": "execute_result"
    }
   ],
   "source": [
    "results.text"
   ]
  },
  {
   "cell_type": "code",
   "execution_count": null,
   "id": "21083043-dda7-4605-80d8-7cbdb4258837",
   "metadata": {},
   "outputs": [],
   "source": []
  }
 ],
 "metadata": {
  "kernelspec": {
   "display_name": "Python 3",
   "language": "python",
   "name": "python3"
  },
  "language_info": {
   "codemirror_mode": {
    "name": "ipython",
    "version": 3
   },
   "file_extension": ".py",
   "mimetype": "text/x-python",
   "name": "python",
   "nbconvert_exporter": "python",
   "pygments_lexer": "ipython3",
   "version": "3.6.9"
  }
 },
 "nbformat": 4,
 "nbformat_minor": 5
}
